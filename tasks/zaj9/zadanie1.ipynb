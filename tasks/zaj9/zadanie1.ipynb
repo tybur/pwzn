{
 "metadata": {
  "name": ""
 },
 "nbformat": 3,
 "nbformat_minor": 0,
 "worksheets": [
  {
   "cells": [
    {
     "cell_type": "code",
     "collapsed": false,
     "input": [
      "from IPython.parallel import Client\n",
      "rc = Client(profile='default')\n",
      "dview = rc.direct_view()"
     ],
     "language": "python",
     "metadata": {},
     "outputs": [],
     "prompt_number": 2
    },
    {
     "cell_type": "code",
     "collapsed": false,
     "input": [
      "%%px\n",
      "\n",
      "import numpy as np\n",
      "from matplotlib import pylab\n",
      "from scipy.optimize import curve_fit\n",
      "\n",
      "\n",
      "def func(x, a, b, c, d, f):\n",
      "    return a * np.exp(-((x-b)*(x-b))/(2*c*c)) + d + f*x\n",
      "\n",
      "\n",
      "def fit_func(fdata):\n",
      "    xdata = np.linspace(-40, 40, 10000)\n",
      "    #initial guesses for parameters:\n",
      "    f = np.median((fdata[1:]-fdata[:-1])/(8/1000))\n",
      "    d = fdata[0] - (-40)*f\n",
      "    ydata = fdata - (f*xdata+d)     #detrended data\n",
      "    ydata[ydata < 0] = 0\n",
      "    s = np.sum(ydata)\n",
      "    a = np.max(ydata)\n",
      "    b = np.sum(xdata * ydata)/s\n",
      "    c = np.sqrt(np.sum((xdata-b)*(xdata-b)*ydata)/s)\n",
      "    try:\n",
      "        popt, pconv = curve_fit(func, xdata, fdata, [a,b,c,d,f])\n",
      "    except Exception as e:\n",
      "        return None\n",
      "    return popt, pconv\n",
      "\n",
      "\n",
      "def get_results(dm):\n",
      "    results = []\n",
      "    for data in dm:\n",
      "        results.append(fit_func(data))\n",
      "    return results\n"
     ],
     "language": "python",
     "metadata": {},
     "outputs": [],
     "prompt_number": 4
    },
    {
     "cell_type": "code",
     "collapsed": false,
     "input": [
      "m = np.memmap(\"/home/tybur/PWZN/data/zaj9/data.bin\", dtype=\"float\", shape=(1000, 10000))\n",
      "\n",
      "'''\n",
      "index = 16\n",
      "res = fit_func(m[index])\n",
      "print(res[0])\n",
      "print(res[1])\n",
      "xdata = np.linspace(-40, 40, 10000)\n",
      "pylab.plot(func(xdata, *res[0]))\n",
      "pylab.plot(m[index])\n",
      "pylab.show()\n",
      "'''"
     ],
     "language": "python",
     "metadata": {},
     "outputs": [
      {
       "metadata": {},
       "output_type": "pyout",
       "prompt_number": 5,
       "text": [
        "'\\nindex = 16\\nres = fit_func(m[index])\\nprint(res[0])\\nprint(res[1])\\nxdata = np.linspace(-40, 40, 10000)\\npylab.plot(func(xdata, *res[0]))\\npylab.plot(m[index])\\npylab.show()\\n'"
       ]
      }
     ],
     "prompt_number": 5
    },
    {
     "cell_type": "code",
     "collapsed": false,
     "input": [
      "'''\n",
      "sres = []\n",
      "outfile = open('fit_diff.txt', 'w')\n",
      "xdata = np.linspace(-40,40,10000)\n",
      "for i in range(1000):\n",
      "    r = fit_func(m[i])\n",
      "    if r:\n",
      "        fitted = func(xdata, *fit_func(m[i])[0])\n",
      "        diff = np.average(np.abs(m[i] - fitted))\n",
      "        outfile.write('%d %f\\n' % (i, diff))\n",
      "    else:\n",
      "        outfile.write('%d None\\n' % i)\n",
      "outfile.close()    \n",
      "'''"
     ],
     "language": "python",
     "metadata": {},
     "outputs": [
      {
       "metadata": {},
       "output_type": "pyout",
       "prompt_number": 6,
       "text": [
        "\"\\nsres = []\\noutfile = open('fit_diff.txt', 'w')\\nxdata = np.linspace(-40,40,10000)\\nfor i in range(1000):\\n    r = fit_func(m[i])\\n    if r:\\n        fitted = func(xdata, *fit_func(m[i])[0])\\n        diff = np.average(np.abs(m[i] - fitted))\\n        outfile.write('%d %f\\n' % (i, diff))\\n    else:\\n        outfile.write('%d None\\n' % i)\\noutfile.close()    \\n\""
       ]
      }
     ],
     "prompt_number": 6
    },
    {
     "cell_type": "code",
     "collapsed": false,
     "input": [
      "dview.scatter('data', m)"
     ],
     "language": "python",
     "metadata": {},
     "outputs": [
      {
       "metadata": {},
       "output_type": "pyout",
       "prompt_number": 7,
       "text": [
        "<AsyncResult: scatter>"
       ]
      }
     ],
     "prompt_number": 7
    },
    {
     "cell_type": "code",
     "collapsed": false,
     "input": [
      "%%px\n",
      "\n",
      "results = get_results(data)"
     ],
     "language": "python",
     "metadata": {},
     "outputs": [],
     "prompt_number": 8
    },
    {
     "cell_type": "code",
     "collapsed": false,
     "input": [
      "res = dview.pull('results')"
     ],
     "language": "python",
     "metadata": {},
     "outputs": [],
     "prompt_number": 9
    },
    {
     "cell_type": "code",
     "collapsed": false,
     "input": [
      "#len(res[0]) #==250\n",
      "#res[0][4][0]\n",
      "xdata = np.linspace(-40,40,10000)\n",
      "index = 54\n",
      "pylab.plot(func(xdata, *res[0][index][0]))\n",
      "pylab.plot(m[index])\n",
      "pylab.show()"
     ],
     "language": "python",
     "metadata": {},
     "outputs": [
      {
       "output_type": "stream",
       "stream": "stderr",
       "text": [
        "/usr/lib/python3/dist-packages/gi/overrides/__init__.py:92: Warning: Source ID 57 was not found when attempting to remove it\n",
        "  return fn(*args, **kwargs)\n"
       ]
      }
     ],
     "prompt_number": 12
    }
   ],
   "metadata": {}
  }
 ]
}